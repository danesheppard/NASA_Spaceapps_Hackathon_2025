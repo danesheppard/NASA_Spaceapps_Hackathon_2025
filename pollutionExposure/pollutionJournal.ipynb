{
 "cells": [
  {
   "cell_type": "markdown",
   "id": "61778289",
   "metadata": {},
   "source": [
    "This is a journal used to create the data ingestion and processing pipeline for generating air quality index as part of the NASA Spaceapps challenge 2025. This will involve a number of steps\n",
    "1. Data ingestion and formatting\n",
    "2. Exploratory data analysis\n",
    "3. Data transformation - Structuring data for use with typical geospatial analysis tools\n",
    "4. Exporting data as geojson file"
   ]
  },
  {
   "cell_type": "code",
   "execution_count": 8,
   "id": "531683e3",
   "metadata": {},
   "outputs": [
    {
     "name": "stdout",
     "output_type": "stream",
     "text": [
      "        lon        lat  final.predicted.ec\n",
      "0 -84.46366  39.121681            0.638953\n",
      "1 -84.46305  39.121624            0.844281\n",
      "2 -84.46244  39.121567            0.848295\n",
      "3 -84.46183  39.121510            0.850415\n",
      "4 -84.46122  39.121453            0.836431\n"
     ]
    }
   ],
   "source": [
    "# Import required libraries for data fusion and geospatial analysis\n",
    "import pandas as pd\n",
    "import geopandas as gpd\n",
    "import pyreadr\n",
    "import rasterio\n",
    "import matplotlib.pyplot as plt\n",
    "import numpy as np      \n",
    "\n",
    "# Initial testing will use the elemental carbon (EC) data from the 2019 Earth Observatory dataset. This data is formatted as an RDS file, so \n",
    "# a bit of work will be needed to convert it to a more useable format. First, we will get it into a dataframe and take a look at the structure.\n",
    "ecData = pyreadr.read_r('sourceData/ec_2019_urban.rds')\n",
    "ecDF = ecData[None]  # Extract the dataframe from the dictionary\n",
    "print(ecDF.head())"
   ]
  },
  {
   "cell_type": "code",
   "execution_count": null,
   "id": "090e4b42",
   "metadata": {},
   "outputs": [
    {
     "name": "stdout",
     "output_type": "stream",
     "text": [
      "               lon        lat        ec\n",
      "8169608 -85.038510  35.000632  0.373149\n",
      "8170855 -85.043177  35.000618  0.381394\n",
      "8170856 -85.042603  35.000564  0.379585\n",
      "8170857 -85.042028  35.000509  0.379897\n",
      "8170858 -85.041453  35.000455  0.370810\n"
     ]
    }
   ],
   "source": [
    "# Trim the data for our area of interest, using lat/long bounds for the state of Georgia, USA\n",
    "minLat, maxLat = 30.357851, 35.000659\n",
    "minLon, maxLon = -85.605165, -80.839729\n",
    "\n",
    "trimmedEC = ecDF[(ecDF['lat'] >= minLat) & (ecDF['lat'] <= maxLat) & (ecDF['lon'] >= minLon) & (ecDF['lon'] <= maxLon)]\n",
    "\n",
    "# We'll also rename the third column to something easier to work with\n",
    "trimmedEC = trimmedEC.rename(columns={trimmedEC.columns[2]: 'ec'})\n",
    "print(trimmedEC.head())\n",
    "\n",
    "# Let's also describe the data to get a sense of the distribution of EC values\n",
    "print(trimmedEC['ec'].describe())\n"
   ]
  },
  {
   "cell_type": "code",
   "execution_count": null,
   "id": "bdfd50d3",
   "metadata": {},
   "outputs": [],
   "source": [
    "# The description of the data says these are grid cells with a resolution of 50m for urban areas, and 1km for rural area. We can visualize the data to confirm this.\n",
    "plt.figure(figsize=(10, 8))\n",
    "plt.scatter(trimmedEC['lon'], trimmedEC['lat'], c=trimmedEC['ec'], cmap='viridis', s=1)\n",
    "plt.colorbar(label='Elemental Carbon (EC) Concentration')\n",
    "plt.xlabel('Longitude')\n",
    "plt.ylabel('Latitude')\n",
    "plt.title('Elemental Carbon (EC) Concentration in Georgia, USA (2019)')\n",
    "plt.show()  "
   ]
  }
 ],
 "metadata": {
  "kernelspec": {
   "display_name": "Python 3",
   "language": "python",
   "name": "python3"
  },
  "language_info": {
   "codemirror_mode": {
    "name": "ipython",
    "version": 3
   },
   "file_extension": ".py",
   "mimetype": "text/x-python",
   "name": "python",
   "nbconvert_exporter": "python",
   "pygments_lexer": "ipython3",
   "version": "3.13.7"
  }
 },
 "nbformat": 4,
 "nbformat_minor": 5
}

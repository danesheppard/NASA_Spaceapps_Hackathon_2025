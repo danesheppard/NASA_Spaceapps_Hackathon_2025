{
 "cells": [
  {
   "cell_type": "markdown",
   "id": "afb1efec",
   "metadata": {},
   "source": [
    "This is a journal used to create the data ingestion and processing pipeline for generating air quality index as part of the NASA Spaceapps challenge 2025. This will involve a number of steps\n",
    "1. Data ingestion and formatting\n",
    "2. Exploratory data analysis\n",
    "3. Data transformation - Structuring data for use with typical geospatial analysis tools\n",
    "4. Exporting data as geojson file"
   ]
  },
  {
   "cell_type": "code",
   "execution_count": null,
   "id": "b5d2cc68",
   "metadata": {},
   "outputs": [],
   "source": [
    "# Import required libraries for data fusion and geospatial analysis\n",
    "import pandas as pd\n",
    "import geopandas as gpd\n",
    "import pyreadr\n",
    "import rasterio\n",
    "import matplotlib.pyplot as plt\n",
    "import numpy as np   "
   ]
  },
  {
   "cell_type": "code",
   "execution_count": null,
   "id": "2bc4321d",
   "metadata": {},
   "outputs": [],
   "source": []
  }
 ],
 "metadata": {
  "kernelspec": {
   "display_name": "venv (3.13.7)",
   "language": "python",
   "name": "python3"
  },
  "language_info": {
   "name": "python",
   "version": "3.13.7"
  }
 },
 "nbformat": 4,
 "nbformat_minor": 5
}

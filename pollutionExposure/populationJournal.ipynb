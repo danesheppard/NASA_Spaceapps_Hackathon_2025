{
 "cells": [
  {
   "cell_type": "markdown",
   "id": "afb1efec",
   "metadata": {},
   "source": [
    "This journal processes \n",
    "1. Data ingestion and formatting\n",
    "2. Exploratory data analysis\n",
    "3. Data transformation - Structuring data for use with typical geospatial analysis tools\n",
    "4. Exporting data as geojson file"
   ]
  },
  {
   "cell_type": "code",
   "execution_count": 7,
   "id": "b5d2cc68",
   "metadata": {},
   "outputs": [],
   "source": [
    "# Import required libraries for data fusion and geospatial analysis\n",
    "import pandas as pd\n",
    "import geopandas as gpd\n",
    "import pyreadr\n",
    "import rasterio\n",
    "import matplotlib.pyplot as plt\n",
    "import numpy as np   "
   ]
  },
  {
   "cell_type": "code",
   "execution_count": null,
   "id": "6ee0dfc2",
   "metadata": {},
   "outputs": [],
   "source": [
    "# Get the raster file\n"
   ]
  }
 ],
 "metadata": {
  "kernelspec": {
   "display_name": "venv (3.13.7)",
   "language": "python",
   "name": "python3"
  },
  "language_info": {
   "codemirror_mode": {
    "name": "ipython",
    "version": 3
   },
   "file_extension": ".py",
   "mimetype": "text/x-python",
   "name": "python",
   "nbconvert_exporter": "python",
   "pygments_lexer": "ipython3",
   "version": "3.13.7"
  }
 },
 "nbformat": 4,
 "nbformat_minor": 5
}
